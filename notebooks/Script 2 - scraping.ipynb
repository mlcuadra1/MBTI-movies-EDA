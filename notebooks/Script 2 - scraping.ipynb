{
 "cells": [
  {
   "cell_type": "code",
   "execution_count": 1,
   "metadata": {},
   "outputs": [],
   "source": [
    "import requests\n",
    "from bs4 import BeautifulSoup\n",
    "\n",
    "# Import selenium necessities\n",
    "import time\n",
    "from selenium import webdriver\n",
    "from selenium.webdriver.chrome.options import Options\n",
    "from selenium.webdriver.chrome.service import Service as ChromeService\n",
    "\n",
    "from selenium.webdriver.common.by import By\n",
    "from selenium.webdriver.support.ui import WebDriverWait\n",
    "from selenium.webdriver.support import expected_conditions as EC"
   ]
  },
  {
   "cell_type": "code",
   "execution_count": 2,
   "metadata": {},
   "outputs": [],
   "source": [
    "# Set up the Chrome WebDriver\n",
    "options = webdriver.ChromeOptions()\n",
    "options.add_argument('--headless')\n",
    "options.add_argument('--disable-gpu')\n",
    "driver = webdriver.Chrome(options=options)"
   ]
  },
  {
   "cell_type": "code",
   "execution_count": 3,
   "metadata": {},
   "outputs": [],
   "source": [
    "URL = \"https://www.personality-database.com/en-US/profile?pid=2&cid=3&type1=1\"\n",
    "driver.get(URL)\n",
    "time.sleep(10)"
   ]
  },
  {
   "cell_type": "code",
   "execution_count": 4,
   "metadata": {},
   "outputs": [],
   "source": [
    "page_source = driver.page_source\n",
    "driver.quit()\n",
    "soup = BeautifulSoup(page_source, \"html.parser\")"
   ]
  },
  {
   "cell_type": "code",
   "execution_count": 5,
   "metadata": {},
   "outputs": [
    {
     "data": {
      "text/plain": [
       "bs4.element.Tag"
      ]
     },
     "execution_count": 5,
     "metadata": {},
     "output_type": "execute_result"
    }
   ],
   "source": [
    "results = soup.find(\"div\", class_=\"profile-container\")\n",
    "type(results)"
   ]
  },
  {
   "cell_type": "code",
   "execution_count": 6,
   "metadata": {},
   "outputs": [
    {
     "name": "stdout",
     "output_type": "stream",
     "text": [
      "Result type:  <class 'bs4.element.Tag'>\n",
      "Result length: 2\n",
      "[<div class=\"loading-wrapper\"><a href=\"https://play.google.com/store/apps/details?id=pdb.app&amp;listing=loading\" target=\"_blank\"><div class=\"loading-container\"><svg height=\"1em\" preserveaspectratio=\"xMidYMid\" viewbox=\"0 0 100 100\" width=\"1em\" xmlns=\"http://www.w3.org/2000/svg\"><rect fill=\"#8E8E93\" height=\"12\" rx=\"3\" ry=\"6\" width=\"6\" x=\"47\" y=\"24\"><animate attributename=\"opacity\" begin=\"-0.9166666666666666s\" dur=\"1s\" keytimes=\"0;1\" repeatcount=\"indefinite\" values=\"1;0\"></animate></rect><rect fill=\"#8E8E93\" height=\"12\" rx=\"3\" ry=\"6\" transform=\"rotate(30 50 50)\" width=\"6\" x=\"47\" y=\"24\"><animate attributename=\"opacity\" begin=\"-0.8333333333333334s\" dur=\"1s\" keytimes=\"0;1\" repeatcount=\"indefinite\" values=\"1;0\"></animate></rect><rect fill=\"#8E8E93\" height=\"12\" rx=\"3\" ry=\"6\" transform=\"rotate(60 50 50)\" width=\"6\" x=\"47\" y=\"24\"><animate attributename=\"opacity\" begin=\"-0.75s\" dur=\"1s\" keytimes=\"0;1\" repeatcount=\"indefinite\" values=\"1;0\"></animate></rect><rect fill=\"#8E8E93\" height=\"12\" rx=\"3\" ry=\"6\" transform=\"rotate(90 50 50)\" width=\"6\" x=\"47\" y=\"24\"><animate attributename=\"opacity\" begin=\"-0.6666666666666666s\" dur=\"1s\" keytimes=\"0;1\" repeatcount=\"indefinite\" values=\"1;0\"></animate></rect><rect fill=\"#8E8E93\" height=\"12\" rx=\"3\" ry=\"6\" transform=\"rotate(120 50 50)\" width=\"6\" x=\"47\" y=\"24\"><animate attributename=\"opacity\" begin=\"-0.5833333333333334s\" dur=\"1s\" keytimes=\"0;1\" repeatcount=\"indefinite\" values=\"1;0\"></animate></rect><rect fill=\"#8E8E93\" height=\"12\" rx=\"3\" ry=\"6\" transform=\"rotate(150 50 50)\" width=\"6\" x=\"47\" y=\"24\"><animate attributename=\"opacity\" begin=\"-0.5s\" dur=\"1s\" keytimes=\"0;1\" repeatcount=\"indefinite\" values=\"1;0\"></animate></rect><rect fill=\"#8E8E93\" height=\"12\" rx=\"3\" ry=\"6\" transform=\"rotate(180 50 50)\" width=\"6\" x=\"47\" y=\"24\"><animate attributename=\"opacity\" begin=\"-0.4166666666666667s\" dur=\"1s\" keytimes=\"0;1\" repeatcount=\"indefinite\" values=\"1;0\"></animate></rect><rect fill=\"#8E8E93\" height=\"12\" rx=\"3\" ry=\"6\" transform=\"rotate(210 50 50)\" width=\"6\" x=\"47\" y=\"24\"><animate attributename=\"opacity\" begin=\"-0.3333333333333333s\" dur=\"1s\" keytimes=\"0;1\" repeatcount=\"indefinite\" values=\"1;0\"></animate></rect><rect fill=\"#8E8E93\" height=\"12\" rx=\"3\" ry=\"6\" transform=\"rotate(240 50 50)\" width=\"6\" x=\"47\" y=\"24\"><animate attributename=\"opacity\" begin=\"-0.25s\" dur=\"1s\" keytimes=\"0;1\" repeatcount=\"indefinite\" values=\"1;0\"></animate></rect><rect fill=\"#8E8E93\" height=\"12\" rx=\"3\" ry=\"6\" transform=\"rotate(270 50 50)\" width=\"6\" x=\"47\" y=\"24\"><animate attributename=\"opacity\" begin=\"-0.16666666666666666s\" dur=\"1s\" keytimes=\"0;1\" repeatcount=\"indefinite\" values=\"1;0\"></animate></rect><rect fill=\"#8E8E93\" height=\"12\" rx=\"3\" ry=\"6\" transform=\"rotate(300 50 50)\" width=\"6\" x=\"47\" y=\"24\"><animate attributename=\"opacity\" begin=\"-0.08333333333333333s\" dur=\"1s\" keytimes=\"0;1\" repeatcount=\"indefinite\" values=\"1;0\"></animate></rect><rect fill=\"#8E8E93\" height=\"12\" rx=\"3\" ry=\"6\" transform=\"rotate(330 50 50)\" width=\"6\" x=\"47\" y=\"24\"><animate attributename=\"opacity\" begin=\"0s\" dur=\"1s\" keytimes=\"0;1\" repeatcount=\"indefinite\" values=\"1;0\"></animate></rect></svg><span></span></div></a></div>, <div class=\"ant-back-top back-top\"></div>]\n"
     ]
    }
   ],
   "source": [
    "print(\"Result type: \", type(results))\n",
    "print(\"Result length: \" + str(len(results)))\n",
    "print(results.contents)\n"
   ]
  },
  {
   "cell_type": "code",
   "execution_count": 7,
   "metadata": {},
   "outputs": [],
   "source": [
    "profile_char = results.find_all(\"div\", class_=\"profile-card\")"
   ]
  },
  {
   "cell_type": "code",
   "execution_count": 8,
   "metadata": {},
   "outputs": [],
   "source": [
    "movie_char = results.find_all(\"div\", class_=\"base_row\")"
   ]
  },
  {
   "cell_type": "code",
   "execution_count": 9,
   "metadata": {},
   "outputs": [],
   "source": [
    "for char in movie_char:\n",
    "    print(char, end=\"\\n\"*2)"
   ]
  },
  {
   "cell_type": "code",
   "execution_count": 10,
   "metadata": {},
   "outputs": [],
   "source": [
    "for i, char in enumerate(movie_char):\n",
    "    char_element = movie_char[i].find(\"div\", class_=\"info\").find(\"h2\", class_=\"info-name\")\n",
    "    movie_element = movie_char[i].find(\"div\", class_=\"info\").find(\"div\", class_=\"info-subcategory\").find(\"label\")\n",
    "    personality_element = movie_char[i].find(\"div\", class_=\"type\").find(\"div\", class_=\"personality\")\n",
    "    votecount_element = movie_char[i].find(\"div\", class_=\"type\").find(\"div\", class_=\"vote-count\").find(\"label\")\n",
    "    print(char_element.text.strip())\n",
    "    print(movie_element.text.strip())\n",
    "    print(personality_element.text.strip())\n",
    "    print(votecount_element.text.strip())\n",
    "    print()"
   ]
  }
 ],
 "metadata": {
  "kernelspec": {
   "display_name": "Python 3",
   "language": "python",
   "name": "python3"
  },
  "language_info": {
   "codemirror_mode": {
    "name": "ipython",
    "version": 3
   },
   "file_extension": ".py",
   "mimetype": "text/x-python",
   "name": "python",
   "nbconvert_exporter": "python",
   "pygments_lexer": "ipython3",
   "version": "3.11.1"
  }
 },
 "nbformat": 4,
 "nbformat_minor": 2
}
