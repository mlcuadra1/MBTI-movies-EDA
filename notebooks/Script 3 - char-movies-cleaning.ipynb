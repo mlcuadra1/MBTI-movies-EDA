{
 "cells": [
  {
   "cell_type": "code",
   "execution_count": 2,
   "metadata": {},
   "outputs": [],
   "source": [
    "import numpy as np\n",
    "import pandas as pd"
   ]
  },
  {
   "cell_type": "markdown",
   "metadata": {},
   "source": [
    "### create function to go through each csv (shallow cleaning)"
   ]
  },
  {
   "cell_type": "code",
   "execution_count": 136,
   "metadata": {},
   "outputs": [],
   "source": [
    "def shallow_clean_csv(mbti_filename, expected_MBTI):\n",
    "    temp_mbti_df = pd.read_csv('../data/Data - '+ mbti_filename +'.csv')\n",
    "\n",
    "    filtered_mbti_df = temp_mbti_df[temp_mbti_df['mbti'].isin([expected_MBTI,'XXXX'])]\n",
    "    misplaced_len = len(temp_mbti_df) - len(filtered_mbti_df)\n",
    "\n",
    "    filtered2_mbti_df = temp_mbti_df[temp_mbti_df['mbti'].isin([expected_MBTI])]\n",
    "\n",
    "    vague_len = len(temp_mbti_df) - len(filtered2_mbti_df) - misplaced_len\n",
    "\n",
    "    return filtered2_mbti_df, misplaced_len, vague_len"
   ]
  },
  {
   "cell_type": "code",
   "execution_count": 163,
   "metadata": {},
   "outputs": [],
   "source": [
    "def convert_votes(vote_str):\n",
    "    # Remove the non-numeric part and turn into a number\n",
    "    \n",
    "    # Check if the vote_str contains 'k' and convert accordingly\n",
    "    if 'k' in vote_str:\n",
    "        return float(vote_str.replace('k Pdb Votes', '')) * 1000        \n",
    "    else:\n",
    "        # initially try for number between 1 and 1000\n",
    "        try:\n",
    "            return float(vote_str.replace(' Pdb Votes', ''))\n",
    "        # consider the singular case for 'vote'\n",
    "        except:\n",
    "            return float(vote_str.replace(' Pdb Vote', ''))"
   ]
  },
  {
   "cell_type": "code",
   "execution_count": 185,
   "metadata": {},
   "outputs": [
    {
     "name": "stdout",
     "output_type": "stream",
     "text": [
      "Misplaced entries: 49\n",
      "Vague entries: 490\n",
      "ISTJ entries: 3046\n"
     ]
    },
    {
     "data": {
      "text/html": [
       "<div>\n",
       "<style scoped>\n",
       "    .dataframe tbody tr th:only-of-type {\n",
       "        vertical-align: middle;\n",
       "    }\n",
       "\n",
       "    .dataframe tbody tr th {\n",
       "        vertical-align: top;\n",
       "    }\n",
       "\n",
       "    .dataframe thead th {\n",
       "        text-align: right;\n",
       "    }\n",
       "</style>\n",
       "<table border=\"1\" class=\"dataframe\">\n",
       "  <thead>\n",
       "    <tr style=\"text-align: right;\">\n",
       "      <th></th>\n",
       "      <th>Unnamed: 0</th>\n",
       "      <th>char</th>\n",
       "      <th>movie</th>\n",
       "      <th>mbti</th>\n",
       "      <th>votes</th>\n",
       "    </tr>\n",
       "  </thead>\n",
       "  <tbody>\n",
       "    <tr>\n",
       "      <th>0</th>\n",
       "      <td>1</td>\n",
       "      <td>Darth Vader</td>\n",
       "      <td>Star Wars</td>\n",
       "      <td>ISTJ</td>\n",
       "      <td>3300</td>\n",
       "    </tr>\n",
       "    <tr>\n",
       "      <th>4</th>\n",
       "      <td>5</td>\n",
       "      <td>Alma “Abuela” Madrigal</td>\n",
       "      <td>Encanto (2021)</td>\n",
       "      <td>ISTJ</td>\n",
       "      <td>1900</td>\n",
       "    </tr>\n",
       "    <tr>\n",
       "      <th>7</th>\n",
       "      <td>9</td>\n",
       "      <td>Carl Fredricksen</td>\n",
       "      <td>Up (2009)</td>\n",
       "      <td>ISTJ</td>\n",
       "      <td>1700</td>\n",
       "    </tr>\n",
       "    <tr>\n",
       "      <th>1</th>\n",
       "      <td>2</td>\n",
       "      <td>Tigress</td>\n",
       "      <td>Kung Fu Panda (Franchise)</td>\n",
       "      <td>ISTJ</td>\n",
       "      <td>1700</td>\n",
       "    </tr>\n",
       "    <tr>\n",
       "      <th>8</th>\n",
       "      <td>10</td>\n",
       "      <td>Astrid Hofferson</td>\n",
       "      <td>How to Train Your Dragon (Franchise)</td>\n",
       "      <td>ISTJ</td>\n",
       "      <td>1300</td>\n",
       "    </tr>\n",
       "  </tbody>\n",
       "</table>\n",
       "</div>"
      ],
      "text/plain": [
       "   Unnamed: 0                    char                                 movie  \\\n",
       "0           1             Darth Vader                             Star Wars   \n",
       "4           5  Alma “Abuela” Madrigal                        Encanto (2021)   \n",
       "7           9        Carl Fredricksen                             Up (2009)   \n",
       "1           2                 Tigress             Kung Fu Panda (Franchise)   \n",
       "8          10        Astrid Hofferson  How to Train Your Dragon (Franchise)   \n",
       "\n",
       "   mbti  votes  \n",
       "0  ISTJ   3300  \n",
       "4  ISTJ   1900  \n",
       "7  ISTJ   1700  \n",
       "1  ISTJ   1700  \n",
       "8  ISTJ   1300  "
      ]
     },
     "execution_count": 185,
     "metadata": {},
     "output_type": "execute_result"
    }
   ],
   "source": [
    "istj_df, istj_misplaced, istj_vague = shallow_clean_csv('01ISTJ', 'ISTJ')\n",
    "print('Misplaced entries:', istj_misplaced)\n",
    "print('Vague entries:', istj_vague)\n",
    "print('ISTJ entries:', len(istj_df))\n",
    "istj_df.reset_index(drop=True, inplace=True)\n",
    "istj_df['votes'] = istj_df['votes'].apply(convert_votes).astype(int)\n",
    "istj_df.sort_values('votes', ascending=False, inplace=True)\n",
    "istj_df.head()"
   ]
  },
  {
   "cell_type": "code",
   "execution_count": 186,
   "metadata": {},
   "outputs": [
    {
     "name": "stdout",
     "output_type": "stream",
     "text": [
      "Misplaced entries: 56\n",
      "Vague entries: 481\n",
      "ISTJ entries: 3161\n"
     ]
    },
    {
     "data": {
      "text/html": [
       "<div>\n",
       "<style scoped>\n",
       "    .dataframe tbody tr th:only-of-type {\n",
       "        vertical-align: middle;\n",
       "    }\n",
       "\n",
       "    .dataframe tbody tr th {\n",
       "        vertical-align: top;\n",
       "    }\n",
       "\n",
       "    .dataframe thead th {\n",
       "        text-align: right;\n",
       "    }\n",
       "</style>\n",
       "<table border=\"1\" class=\"dataframe\">\n",
       "  <thead>\n",
       "    <tr style=\"text-align: right;\">\n",
       "      <th></th>\n",
       "      <th>Unnamed: 0</th>\n",
       "      <th>char</th>\n",
       "      <th>movie</th>\n",
       "      <th>mbti</th>\n",
       "      <th>votes</th>\n",
       "    </tr>\n",
       "  </thead>\n",
       "  <tbody>\n",
       "    <tr>\n",
       "      <th>1</th>\n",
       "      <td>1</td>\n",
       "      <td>Hermione Granger</td>\n",
       "      <td>Harry Potter / Wizarding World Films</td>\n",
       "      <td>ESTJ</td>\n",
       "      <td>7300</td>\n",
       "    </tr>\n",
       "    <tr>\n",
       "      <th>0</th>\n",
       "      <td>0</td>\n",
       "      <td>Regina George</td>\n",
       "      <td>Mean Girls (2004)</td>\n",
       "      <td>ESTJ</td>\n",
       "      <td>6600</td>\n",
       "    </tr>\n",
       "    <tr>\n",
       "      <th>2</th>\n",
       "      <td>2</td>\n",
       "      <td>Draco Malfoy</td>\n",
       "      <td>Harry Potter / Wizarding World Films</td>\n",
       "      <td>ESTJ</td>\n",
       "      <td>4600</td>\n",
       "    </tr>\n",
       "    <tr>\n",
       "      <th>3</th>\n",
       "      <td>3</td>\n",
       "      <td>Isabela Madrigal</td>\n",
       "      <td>Encanto (2021)</td>\n",
       "      <td>ESTJ</td>\n",
       "      <td>3600</td>\n",
       "    </tr>\n",
       "    <tr>\n",
       "      <th>4</th>\n",
       "      <td>4</td>\n",
       "      <td>Tiana</td>\n",
       "      <td>The Princess and the Frog (2009)</td>\n",
       "      <td>ESTJ</td>\n",
       "      <td>2500</td>\n",
       "    </tr>\n",
       "  </tbody>\n",
       "</table>\n",
       "</div>"
      ],
      "text/plain": [
       "   Unnamed: 0              char                                 movie  mbti  \\\n",
       "1           1  Hermione Granger  Harry Potter / Wizarding World Films  ESTJ   \n",
       "0           0     Regina George                     Mean Girls (2004)  ESTJ   \n",
       "2           2      Draco Malfoy  Harry Potter / Wizarding World Films  ESTJ   \n",
       "3           3  Isabela Madrigal                        Encanto (2021)  ESTJ   \n",
       "4           4             Tiana      The Princess and the Frog (2009)  ESTJ   \n",
       "\n",
       "   votes  \n",
       "1   7300  \n",
       "0   6600  \n",
       "2   4600  \n",
       "3   3600  \n",
       "4   2500  "
      ]
     },
     "execution_count": 186,
     "metadata": {},
     "output_type": "execute_result"
    }
   ],
   "source": [
    "estj_df, estj_misplaced, estj_vague = shallow_clean_csv('02ESTJ', 'ESTJ')\n",
    "print('Misplaced entries:', estj_misplaced)\n",
    "print('Vague entries:', estj_vague)\n",
    "print('ISTJ entries:', len(estj_df))\n",
    "estj_df.reset_index(drop=True, inplace=True)\n",
    "estj_df['votes'] = estj_df['votes'].apply(convert_votes).astype(int)\n",
    "estj_df.sort_values('votes', ascending=False, inplace=True)\n",
    "estj_df.head()"
   ]
  }
 ],
 "metadata": {
  "kernelspec": {
   "display_name": "Python 3",
   "language": "python",
   "name": "python3"
  },
  "language_info": {
   "codemirror_mode": {
    "name": "ipython",
    "version": 3
   },
   "file_extension": ".py",
   "mimetype": "text/x-python",
   "name": "python",
   "nbconvert_exporter": "python",
   "pygments_lexer": "ipython3",
   "version": "3.11.1"
  }
 },
 "nbformat": 4,
 "nbformat_minor": 2
}
